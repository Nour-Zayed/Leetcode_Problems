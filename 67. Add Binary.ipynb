{
 "cells": [
  {
   "cell_type": "code",
   "execution_count": 1,
   "id": "ef775459-47d1-4cab-99d9-19767d8af8f6",
   "metadata": {},
   "outputs": [],
   "source": [
    "class Solution(object):\n",
    "    def addBinary(self, a, b):\n",
    "        num1 = int(a, 2)\n",
    "        num2 = int(b, 2)\n",
    "        \n",
    "        decimal = num1 + num2\n",
    "        \n",
    "        sum = bin(decimal)[2:]\n",
    "        \n",
    "        return sum"
   ]
  },
  {
   "cell_type": "code",
   "execution_count": null,
   "id": "29833c49-35aa-4ace-8a4b-3786ddfcd276",
   "metadata": {},
   "outputs": [],
   "source": []
  },
  {
   "cell_type": "code",
   "execution_count": null,
   "id": "4da90157-d30e-407a-9f5a-a28da7e0c582",
   "metadata": {},
   "outputs": [],
   "source": []
  },
  {
   "cell_type": "code",
   "execution_count": null,
   "id": "b01b3c83-4458-4e9c-9261-2a1f867ea182",
   "metadata": {},
   "outputs": [],
   "source": []
  }
 ],
 "metadata": {
  "kernelspec": {
   "display_name": "Python 3 (ipykernel)",
   "language": "python",
   "name": "python3"
  },
  "language_info": {
   "codemirror_mode": {
    "name": "ipython",
    "version": 3
   },
   "file_extension": ".py",
   "mimetype": "text/x-python",
   "name": "python",
   "nbconvert_exporter": "python",
   "pygments_lexer": "ipython3",
   "version": "3.11.5"
  }
 },
 "nbformat": 4,
 "nbformat_minor": 5
}
