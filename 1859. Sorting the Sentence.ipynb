{
 "cells": [
  {
   "cell_type": "code",
   "execution_count": 1,
   "id": "3a659aaa-59ff-47ea-b60a-ee0c6a80c01f",
   "metadata": {},
   "outputs": [],
   "source": [
    "class Solution(object):\n",
    "    def sortSentence(self, s):\n",
    "        words = s.split()\n",
    "        \n",
    "        sorted_words = [''] * len(words)\n",
    "        \n",
    "        for word in words:\n",
    "            index = int(word[-1]) - 1\n",
    "            actual_word = word[:-1]\n",
    "            sorted_words[index] = actual_word\n",
    "        \n",
    "        return ' '.join(sorted_words)"
   ]
  },
  {
   "cell_type": "code",
   "execution_count": null,
   "id": "03b261a4-4f8a-48f8-8366-8e53fdb5f05e",
   "metadata": {},
   "outputs": [],
   "source": []
  },
  {
   "cell_type": "code",
   "execution_count": null,
   "id": "7a3bdbd5-8643-4976-a994-013e980f16b1",
   "metadata": {},
   "outputs": [],
   "source": []
  }
 ],
 "metadata": {
  "kernelspec": {
   "display_name": "Python 3 (ipykernel)",
   "language": "python",
   "name": "python3"
  },
  "language_info": {
   "codemirror_mode": {
    "name": "ipython",
    "version": 3
   },
   "file_extension": ".py",
   "mimetype": "text/x-python",
   "name": "python",
   "nbconvert_exporter": "python",
   "pygments_lexer": "ipython3",
   "version": "3.11.5"
  }
 },
 "nbformat": 4,
 "nbformat_minor": 5
}
