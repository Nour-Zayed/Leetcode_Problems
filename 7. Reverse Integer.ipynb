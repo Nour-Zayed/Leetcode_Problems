{
 "cells": [
  {
   "cell_type": "code",
   "execution_count": 1,
   "id": "4aebc282-2459-43f9-9cda-842bca101da1",
   "metadata": {},
   "outputs": [],
   "source": [
    "class Solution(object):\n",
    "    def reverse(self, x):\n",
    "        sign = -1 if x < 0 else 1\n",
    "        \n",
    "        reversed_str = str(abs(x))[::-1]\n",
    "        \n",
    "        revers = sign * int(reversed_str)\n",
    "        \n",
    "        if revers < -2**31 or revers > 2**31 - 1:\n",
    "            return 0\n",
    "        \n",
    "        return revers"
   ]
  },
  {
   "cell_type": "code",
   "execution_count": null,
   "id": "eb737981-6865-43f8-8ac0-8038cc25e0fe",
   "metadata": {},
   "outputs": [],
   "source": []
  },
  {
   "cell_type": "code",
   "execution_count": null,
   "id": "574ba206-ad7f-4299-909e-463c154b65af",
   "metadata": {},
   "outputs": [],
   "source": []
  }
 ],
 "metadata": {
  "kernelspec": {
   "display_name": "Python 3 (ipykernel)",
   "language": "python",
   "name": "python3"
  },
  "language_info": {
   "codemirror_mode": {
    "name": "ipython",
    "version": 3
   },
   "file_extension": ".py",
   "mimetype": "text/x-python",
   "name": "python",
   "nbconvert_exporter": "python",
   "pygments_lexer": "ipython3",
   "version": "3.11.5"
  }
 },
 "nbformat": 4,
 "nbformat_minor": 5
}
