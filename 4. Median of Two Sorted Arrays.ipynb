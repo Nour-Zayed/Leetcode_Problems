{
 "cells": [
  {
   "cell_type": "code",
   "execution_count": 1,
   "id": "b2e66a7b-79d2-4522-96fe-e12c040c530b",
   "metadata": {},
   "outputs": [],
   "source": [
    "class Solution(object):\n",
    "    def findMedianSortedArrays(self, nums1, nums2):\n",
    "        append=nums1+nums2\n",
    "        append.sort()\n",
    "        count=len(append)\n",
    "        \n",
    "        if count % 2 != 0:\n",
    "            result = append [count // 2]\n",
    "        else:\n",
    "            mid1=append[count // 2 - 1]\n",
    "            mid2=append[count // 2 ]  \n",
    "            result =(mid1+mid2 )/2.0  \n",
    "       \n",
    "        return  result\n",
    "      "
   ]
  },
  {
   "cell_type": "code",
   "execution_count": null,
   "id": "ddffaaa4-e962-460f-92ed-f5c46d3095ff",
   "metadata": {},
   "outputs": [],
   "source": []
  },
  {
   "cell_type": "code",
   "execution_count": null,
   "id": "14f2414e-c9dd-4493-b75e-b7f19038cc32",
   "metadata": {},
   "outputs": [],
   "source": []
  },
  {
   "cell_type": "code",
   "execution_count": null,
   "id": "2aa9af88-8507-4e4b-8dd3-4c13d296456b",
   "metadata": {},
   "outputs": [],
   "source": []
  }
 ],
 "metadata": {
  "kernelspec": {
   "display_name": "Python 3 (ipykernel)",
   "language": "python",
   "name": "python3"
  },
  "language_info": {
   "codemirror_mode": {
    "name": "ipython",
    "version": 3
   },
   "file_extension": ".py",
   "mimetype": "text/x-python",
   "name": "python",
   "nbconvert_exporter": "python",
   "pygments_lexer": "ipython3",
   "version": "3.11.5"
  }
 },
 "nbformat": 4,
 "nbformat_minor": 5
}
