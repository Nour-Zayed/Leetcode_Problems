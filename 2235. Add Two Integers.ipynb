{
 "cells": [
  {
   "cell_type": "code",
   "execution_count": 1,
   "id": "436a34e6-5ef3-4b47-bde0-60b5460e18be",
   "metadata": {},
   "outputs": [],
   "source": [
    "class Solution(object):\n",
    "    def sum(self, num1, num2):\n",
    "        return num1+num2"
   ]
  },
  {
   "cell_type": "code",
   "execution_count": null,
   "id": "50b828cb-ce98-40d9-9993-db535ed86733",
   "metadata": {},
   "outputs": [],
   "source": []
  },
  {
   "cell_type": "code",
   "execution_count": null,
   "id": "1055dfdf-8de1-4cac-aa0b-6721d0125ba4",
   "metadata": {},
   "outputs": [],
   "source": []
  },
  {
   "cell_type": "code",
   "execution_count": null,
   "id": "98f59830-a48f-4f98-b731-9af6c4e9a8df",
   "metadata": {},
   "outputs": [],
   "source": []
  }
 ],
 "metadata": {
  "kernelspec": {
   "display_name": "Python 3 (ipykernel)",
   "language": "python",
   "name": "python3"
  },
  "language_info": {
   "codemirror_mode": {
    "name": "ipython",
    "version": 3
   },
   "file_extension": ".py",
   "mimetype": "text/x-python",
   "name": "python",
   "nbconvert_exporter": "python",
   "pygments_lexer": "ipython3",
   "version": "3.11.5"
  }
 },
 "nbformat": 4,
 "nbformat_minor": 5
}
