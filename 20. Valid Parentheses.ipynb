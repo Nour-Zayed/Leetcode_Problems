{
 "cells": [
  {
   "cell_type": "code",
   "execution_count": 1,
   "id": "7aa4fb10-4553-441a-aae8-e1dc10cc4e69",
   "metadata": {},
   "outputs": [],
   "source": [
    "class Solution(object):\n",
    "    def isValid(self, s) :\n",
    "\n",
    "        stack =[]\n",
    "\n",
    "        character={\")\":\"(\",\"}\":\"{\",\"]\":\"[\"}\n",
    "\n",
    "        for i in s:\n",
    "            if i in character.values():\n",
    "                stack.append(i)\n",
    "            elif stack and character[i] ==stack[-1]:\n",
    "                \n",
    "                stack.pop()\n",
    "            else:\n",
    "                return False\n",
    "        return stack == []  "
   ]
  },
  {
   "cell_type": "code",
   "execution_count": null,
   "id": "5fd014c5-c6cb-48fe-ba84-5dd642a17c6a",
   "metadata": {},
   "outputs": [],
   "source": [
    "\n",
    "\n"
   ]
  }
 ],
 "metadata": {
  "kernelspec": {
   "display_name": "Python 3 (ipykernel)",
   "language": "python",
   "name": "python3"
  },
  "language_info": {
   "codemirror_mode": {
    "name": "ipython",
    "version": 3
   },
   "file_extension": ".py",
   "mimetype": "text/x-python",
   "name": "python",
   "nbconvert_exporter": "python",
   "pygments_lexer": "ipython3",
   "version": "3.11.5"
  }
 },
 "nbformat": 4,
 "nbformat_minor": 5
}
