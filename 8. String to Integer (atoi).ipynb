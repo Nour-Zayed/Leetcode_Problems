{
 "cells": [
  {
   "cell_type": "code",
   "execution_count": null,
   "id": "43610272-caa0-4642-a41d-1c6a8184e488",
   "metadata": {},
   "outputs": [],
   "source": [
    "class Solution(object):\n",
    "    def myAtoi(self, s):\n",
    "        s = s.strip()  \n",
    "        if not s:\n",
    "            return 0\n",
    "        \n",
    "        sign = 1  \n",
    "        i = 0\n",
    "        if s[0] == '-':\n",
    "            sign = -1\n",
    "            i += 1\n",
    "        elif s[0] == '+':\n",
    "            i += 1\n",
    "        \n",
    "        result = 0\n",
    "        while i < len(s) and s[i].isdigit():\n",
    "            result = result * 10 + int(s[i])\n",
    "            i += 1\n",
    "            \n",
    "            if result * sign > 2**31 - 1:\n",
    "                return 2**31 - 1\n",
    "            if result * sign < -2**31:\n",
    "                return -2**31\n",
    "        \n",
    "        return result * sign\n"
   ]
  }
 ],
 "metadata": {
  "kernelspec": {
   "display_name": "Python 3 (ipykernel)",
   "language": "python",
   "name": "python3"
  },
  "language_info": {
   "codemirror_mode": {
    "name": "ipython",
    "version": 3
   },
   "file_extension": ".py",
   "mimetype": "text/x-python",
   "name": "python",
   "nbconvert_exporter": "python",
   "pygments_lexer": "ipython3",
   "version": "3.11.5"
  }
 },
 "nbformat": 4,
 "nbformat_minor": 5
}
