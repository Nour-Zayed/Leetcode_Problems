{
 "cells": [
  {
   "cell_type": "code",
   "execution_count": 1,
   "id": "bd3fcc57-e374-4ce9-8664-63a004622bca",
   "metadata": {},
   "outputs": [],
   "source": [
    "class Solution(object):\n",
    "    def smallestEvenMultiple(self, n):\n",
    "        if n % 2 == 0:\n",
    "            return n\n",
    "        return 2 * n"
   ]
  },
  {
   "cell_type": "code",
   "execution_count": null,
   "id": "30801cd3-a282-4c90-98b6-e02313598076",
   "metadata": {},
   "outputs": [],
   "source": []
  },
  {
   "cell_type": "code",
   "execution_count": null,
   "id": "cbb5f532-220b-4779-aa0f-c49b06df27ef",
   "metadata": {},
   "outputs": [],
   "source": []
  },
  {
   "cell_type": "code",
   "execution_count": null,
   "id": "47d96bfe-0232-4c3e-803f-648aff73a807",
   "metadata": {},
   "outputs": [],
   "source": []
  }
 ],
 "metadata": {
  "kernelspec": {
   "display_name": "Python 3 (ipykernel)",
   "language": "python",
   "name": "python3"
  },
  "language_info": {
   "codemirror_mode": {
    "name": "ipython",
    "version": 3
   },
   "file_extension": ".py",
   "mimetype": "text/x-python",
   "name": "python",
   "nbconvert_exporter": "python",
   "pygments_lexer": "ipython3",
   "version": "3.11.5"
  }
 },
 "nbformat": 4,
 "nbformat_minor": 5
}
