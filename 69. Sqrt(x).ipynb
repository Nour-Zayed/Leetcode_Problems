{
 "cells": [
  {
   "cell_type": "code",
   "execution_count": 1,
   "id": "bc6a6e8d-bdaf-4d67-a0cf-66b2e6cca1e4",
   "metadata": {},
   "outputs": [],
   "source": [
    "class Solution(object):\n",
    "    def mySqrt(self, x):\n",
    "      \n",
    "        square_root =int( math.sqrt(x))\n",
    "        return square_root"
   ]
  },
  {
   "cell_type": "code",
   "execution_count": null,
   "id": "ee047fe4-4ec9-45c0-a0ba-df89efc127d0",
   "metadata": {},
   "outputs": [],
   "source": []
  },
  {
   "cell_type": "code",
   "execution_count": null,
   "id": "05470c27-b535-4306-b45d-b167554fa9a9",
   "metadata": {},
   "outputs": [],
   "source": []
  }
 ],
 "metadata": {
  "kernelspec": {
   "display_name": "Python 3 (ipykernel)",
   "language": "python",
   "name": "python3"
  },
  "language_info": {
   "codemirror_mode": {
    "name": "ipython",
    "version": 3
   },
   "file_extension": ".py",
   "mimetype": "text/x-python",
   "name": "python",
   "nbconvert_exporter": "python",
   "pygments_lexer": "ipython3",
   "version": "3.11.5"
  }
 },
 "nbformat": 4,
 "nbformat_minor": 5
}
