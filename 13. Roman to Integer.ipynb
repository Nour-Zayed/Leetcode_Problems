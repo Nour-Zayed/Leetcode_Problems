{
 "cells": [
  {
   "cell_type": "code",
   "execution_count": 2,
   "id": "055b82a3-eafc-40c7-b7bc-eddd6938a787",
   "metadata": {},
   "outputs": [],
   "source": [
    "\n",
    "class Solution(object):\n",
    "    def romanToInt(self, s):\n",
    "\n",
    "\n",
    "        roman ={\"I\":1,\"V\":5,\"X\":10,\"L\":50,\"C\":100,\"D\":500,\"M\":1000}\n",
    "\n",
    "        Res=0\n",
    "\n",
    "        for i in range(len(s)):\n",
    "            if i +1 < len(s) and roman [s[i]] < roman [s[i+1]]:\n",
    "                Res -=roman[s[i]]\n",
    "            else:\n",
    "                Res +=roman[s[i]]    \n",
    "        return Res"
   ]
  },
  {
   "cell_type": "code",
   "execution_count": null,
   "id": "2cede8cc-e4fb-4008-a334-4dad1cfdfbb5",
   "metadata": {},
   "outputs": [],
   "source": [
    "\n",
    "\n"
   ]
  },
  {
   "cell_type": "code",
   "execution_count": null,
   "id": "6ebacefa-a136-4809-8f1f-05a3f1f1dae8",
   "metadata": {},
   "outputs": [],
   "source": []
  },
  {
   "cell_type": "code",
   "execution_count": null,
   "id": "aff0724d-1458-434f-9b79-1953944403eb",
   "metadata": {},
   "outputs": [],
   "source": []
  },
  {
   "cell_type": "code",
   "execution_count": null,
   "id": "c4257b2f-a9e1-4a93-90ba-60ae12172744",
   "metadata": {},
   "outputs": [],
   "source": []
  }
 ],
 "metadata": {
  "kernelspec": {
   "display_name": "Python 3 (ipykernel)",
   "language": "python",
   "name": "python3"
  },
  "language_info": {
   "codemirror_mode": {
    "name": "ipython",
    "version": 3
   },
   "file_extension": ".py",
   "mimetype": "text/x-python",
   "name": "python",
   "nbconvert_exporter": "python",
   "pygments_lexer": "ipython3",
   "version": "3.11.5"
  }
 },
 "nbformat": 4,
 "nbformat_minor": 5
}
