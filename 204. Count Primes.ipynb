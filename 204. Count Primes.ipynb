{
 "cells": [
  {
   "cell_type": "code",
   "execution_count": 5,
   "id": "c923625e-f468-47ab-aa74-427db186cfd4",
   "metadata": {},
   "outputs": [],
   "source": [
    "class Solution(object):\n",
    "    def countPrimes(self, n):\n",
    "        if n <= 2:\n",
    "            return 0\n",
    "        \n",
    "        count = [True] * n\n",
    "        count[0] = count[1] = False\n",
    "\n",
    "        for i in range(2, int(n ** 0.5) + 1):\n",
    "            if count[i]:\n",
    "                for j in range(i * i, n, i):\n",
    "                    count[j] = False\n",
    "        \n",
    "        return sum(count)\n",
    "        \n",
    "\n",
    "        \n",
    "\n",
    "      \n",
    "        "
   ]
  },
  {
   "cell_type": "code",
   "execution_count": null,
   "id": "7a345d7e-7653-41ca-9cbf-af3ea0c496f4",
   "metadata": {},
   "outputs": [],
   "source": []
  },
  {
   "cell_type": "code",
   "execution_count": null,
   "id": "27d1e4aa-4afc-4d5f-989f-fea414343dae",
   "metadata": {},
   "outputs": [],
   "source": []
  }
 ],
 "metadata": {
  "kernelspec": {
   "display_name": "Python 3 (ipykernel)",
   "language": "python",
   "name": "python3"
  },
  "language_info": {
   "codemirror_mode": {
    "name": "ipython",
    "version": 3
   },
   "file_extension": ".py",
   "mimetype": "text/x-python",
   "name": "python",
   "nbconvert_exporter": "python",
   "pygments_lexer": "ipython3",
   "version": "3.11.5"
  }
 },
 "nbformat": 4,
 "nbformat_minor": 5
}
