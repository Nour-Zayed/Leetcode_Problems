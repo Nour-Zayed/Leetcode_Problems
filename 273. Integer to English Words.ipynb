{
 "cells": [
  {
   "cell_type": "code",
   "execution_count": null,
   "id": "86d4e08d-f740-4aea-b2ed-b66e056f6f70",
   "metadata": {},
   "outputs": [],
   "source": [
    "class Solution:\n",
    "    def numberToWords(self, num): \n",
    "        if num == 0:\n",
    "            return \"Zero\"\n",
    "\n",
    "        below_20 = [\"\", \"One\", \"Two\", \"Three\", \"Four\", \"Five\", \"Six\", \"Seven\", \"Eight\", \"Nine\", \"Ten\",\n",
    "                    \"Eleven\", \"Twelve\", \"Thirteen\", \"Fourteen\", \"Fifteen\", \"Sixteen\", \"Seventeen\", \"Eighteen\", \"Nineteen\"]\n",
    "        tens = [\"\", \"\", \"Twenty\", \"Thirty\", \"Forty\", \"Fifty\", \"Sixty\", \"Seventy\", \"Eighty\", \"Ninety\"]\n",
    "        thousands = [\"\", \"Thousand\", \"Million\", \"Billion\"]\n",
    "\n",
    "        def helper(n):\n",
    "            if n == 0:\n",
    "                return \"\"\n",
    "            elif n < 20:\n",
    "                return below_20[n] + \" \"\n",
    "            elif n < 100:\n",
    "                return tens[n // 10] + \" \" + helper(n % 10)\n",
    "            else:\n",
    "                return below_20[n // 100] + \" Hundred \" + helper(n % 100)\n",
    "\n",
    "        res = \"\"\n",
    "        for i, v in enumerate(thousands):\n",
    "            if num % 1000 != 0:\n",
    "                res = helper(num % 1000) + v + \" \" + res\n",
    "            num //= 1000\n",
    "\n",
    "        return res.strip()\n",
    "\n",
    "\n"
   ]
  }
 ],
 "metadata": {
  "kernelspec": {
   "display_name": "Python 3 (ipykernel)",
   "language": "python",
   "name": "python3"
  },
  "language_info": {
   "codemirror_mode": {
    "name": "ipython",
    "version": 3
   },
   "file_extension": ".py",
   "mimetype": "text/x-python",
   "name": "python",
   "nbconvert_exporter": "python",
   "pygments_lexer": "ipython3",
   "version": "3.11.5"
  }
 },
 "nbformat": 4,
 "nbformat_minor": 5
}
