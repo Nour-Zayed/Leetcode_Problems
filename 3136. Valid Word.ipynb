{
 "cells": [
  {
   "cell_type": "code",
   "execution_count": null,
   "id": "146ece6e-1ea3-4d0d-82f8-b398e774fbca",
   "metadata": {},
   "outputs": [],
   "source": [
    "class Solution(object):\n",
    "    def isValid(self, word):\n",
    "        if len(word) < 3:\n",
    "            return False\n",
    "\n",
    "        consists = {'@', '#', '$'}\n",
    "\n",
    "        for char in word:\n",
    "            if char in consists:\n",
    "                return False\n",
    "            if not char.isalnum(): \n",
    "                return False\n",
    "\n",
    "        return True"
   ]
  }
 ],
 "metadata": {
  "kernelspec": {
   "display_name": "Python 3 (ipykernel)",
   "language": "python",
   "name": "python3"
  },
  "language_info": {
   "codemirror_mode": {
    "name": "ipython",
    "version": 3
   },
   "file_extension": ".py",
   "mimetype": "text/x-python",
   "name": "python",
   "nbconvert_exporter": "python",
   "pygments_lexer": "ipython3",
   "version": "3.11.5"
  }
 },
 "nbformat": 4,
 "nbformat_minor": 5
}
