{
 "cells": [
  {
   "cell_type": "code",
   "execution_count": null,
   "id": "146ece6e-1ea3-4d0d-82f8-b398e774fbca",
   "metadata": {},
   "outputs": [],
   "source": [
    "class Solution(object):\n",
    "    def isValid(self, word):\n",
    "        if len(word) < 3:\n",
    "            return False\n",
    "        \n",
    "        vowels = {'a', 'e', 'i', 'o', 'u', 'A', 'E', 'I', 'O', 'U'}\n",
    "        consonants = set(\"abcdefghijklmnopqrstuvwxyzABCDEFGHIJKLMNOPQRSTUVWXYZ\") - vowels\n",
    "        consists = {'@', '#', '$'}\n",
    "\n",
    "        vowel = False\n",
    "        consonant = False\n",
    "\n",
    "        for char in word:\n",
    "            if char in consists:\n",
    "                return False\n",
    "            if char in vowels:\n",
    "                vowel = True\n",
    "            elif char in consonants:\n",
    "                consonant = True\n",
    "            elif not char.isdigit(): \n",
    "                return False\n",
    "        \n",
    "        return vowel and consonant"
   ]
  }
 ],
 "metadata": {
  "kernelspec": {
   "display_name": "Python 3 (ipykernel)",
   "language": "python",
   "name": "python3"
  },
  "language_info": {
   "codemirror_mode": {
    "name": "ipython",
    "version": 3
   },
   "file_extension": ".py",
   "mimetype": "text/x-python",
   "name": "python",
   "nbconvert_exporter": "python",
   "pygments_lexer": "ipython3",
   "version": "3.11.5"
  }
 },
 "nbformat": 4,
 "nbformat_minor": 5
}
