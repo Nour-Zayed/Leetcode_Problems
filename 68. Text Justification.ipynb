{
 "cells": [
  {
   "cell_type": "code",
   "execution_count": 1,
   "id": "68e2308c-2f99-435c-9324-a555ec9a2a28",
   "metadata": {},
   "outputs": [],
   "source": [
    "class Solution(object):\n",
    "    def fullJustify(self, words, maxWidth):\n",
    "        line = []\n",
    "        res = []\n",
    "        len_line = 0\n",
    "        \n",
    "        for word in words:\n",
    "            if (len(word) + len_line + len(line)) > maxWidth:\n",
    "                for i in range(maxWidth - len_line):\n",
    "                    line[i % (len(line) - 1 or 1)] += ' '\n",
    "                res.append(''.join(line))\n",
    "                line, len_line = [], 0\n",
    "            \n",
    "            line.append(word)\n",
    "            len_line += len(word)"
   ]
  },
  {
   "cell_type": "code",
   "execution_count": null,
   "id": "d2e37de1-8848-4c1c-a6b4-ea4f15667b4a",
   "metadata": {},
   "outputs": [],
   "source": []
  },
  {
   "cell_type": "code",
   "execution_count": 6,
   "id": "afbd98ab-a156-4a80-83e1-2d7dbc892068",
   "metadata": {},
   "outputs": [
    {
     "ename": "NameError",
     "evalue": "name 'Counter' is not defined",
     "output_type": "error",
     "traceback": [
      "\u001b[1;31m---------------------------------------------------------------------------\u001b[0m",
      "\u001b[1;31mNameError\u001b[0m                                 Traceback (most recent call last)",
      "Cell \u001b[1;32mIn[6], line 2\u001b[0m\n\u001b[0;32m      1\u001b[0m l\u001b[38;5;241m=\u001b[39m(\u001b[38;5;241m1\u001b[39m,\u001b[38;5;241m2\u001b[39m,\u001b[38;5;241m5\u001b[39m,\u001b[38;5;241m4\u001b[39m,\u001b[38;5;241m2\u001b[39m,\u001b[38;5;241m8\u001b[39m,\u001b[38;5;241m1\u001b[39m)\n\u001b[1;32m----> 2\u001b[0m \u001b[38;5;28mprint\u001b[39m(\u001b[43mCounter\u001b[49m(l))\n",
      "\u001b[1;31mNameError\u001b[0m: name 'Counter' is not defined"
     ]
    }
   ],
   "source": [
    "l=(1,2,5,4,2,8,1)\n",
    "print(Counter(l))"
   ]
  },
  {
   "cell_type": "code",
   "execution_count": 7,
   "id": "3c0a8036-6442-41e2-8aa0-7ee485a6c6a0",
   "metadata": {},
   "outputs": [
    {
     "name": "stdout",
     "output_type": "stream",
     "text": [
      "Counter({1: 2, 2: 2, 5: 1, 4: 1, 8: 1})\n"
     ]
    }
   ],
   "source": []
  },
  {
   "cell_type": "code",
   "execution_count": null,
   "id": "976d18c8-5d72-4856-8cef-792307503dab",
   "metadata": {},
   "outputs": [],
   "source": []
  }
 ],
 "metadata": {
  "kernelspec": {
   "display_name": "Python 3 (ipykernel)",
   "language": "python",
   "name": "python3"
  },
  "language_info": {
   "codemirror_mode": {
    "name": "ipython",
    "version": 3
   },
   "file_extension": ".py",
   "mimetype": "text/x-python",
   "name": "python",
   "nbconvert_exporter": "python",
   "pygments_lexer": "ipython3",
   "version": "3.11.5"
  }
 },
 "nbformat": 4,
 "nbformat_minor": 5
}
